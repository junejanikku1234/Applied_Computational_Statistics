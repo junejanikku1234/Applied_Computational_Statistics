{
 "cells": [
  {
   "cell_type": "code",
   "execution_count": 3,
   "id": "7f208853-f005-4d1e-9784-b7032153e63d",
   "metadata": {},
   "outputs": [
    {
     "name": "stdout",
     "output_type": "stream",
     "text": [
      "For a two-tailed test with alpha = 0.05:\n",
      "Lower critical value: -1.960\n",
      "Upper critical value: 1.960\n",
      "\n",
      "For a right-tailed test with alpha = 0.05:\n",
      "Critical value: 1.645\n",
      "\n",
      "For a left-tailed test with alpha = 0.05:\n",
      "Critical value: -1.645\n"
     ]
    }
   ],
   "source": [
    "import scipy.stats as st\n",
    "\n",
    "def find_critical_value_normal(alpha, tails=2):\n",
    "  \"\"\"\n",
    "  Calculates the critical value(s) for a normal distribution given the significance level.\n",
    "\n",
    "  Args:\n",
    "    alpha (float): The significance level (e.g., 0.05 for a 95% confidence level).\n",
    "    tails (int): The number of tails for the test (1 for one-tailed, 2 for two-tailed).\n",
    "\n",
    "  Returns:\n",
    "    float or tuple: The critical value(s). Returns a single float for a one-tailed test\n",
    "                   and a tuple of two floats (lower and upper) for a two-tailed test.\n",
    "  \"\"\"\n",
    "  if tails == 1:\n",
    "    critical_value = st.norm.ppf(1 - alpha) # For right-tailed\n",
    "    return critical_value\n",
    "  elif tails == 2:\n",
    "    lower_critical_value = st.norm.ppf(alpha / 2)\n",
    "    upper_critical_value = st.norm.ppf(1 - alpha / 2)\n",
    "    return lower_critical_value, upper_critical_value\n",
    "  else:\n",
    "    raise ValueError(\"The 'tails' argument must be 1 or 2.\")\n",
    "\n",
    "# Example usage:\n",
    "alpha_level = 0.05\n",
    "\n",
    "# Two-tailed test\n",
    "critical_values_two_tailed = find_critical_value_normal(alpha_level, tails=2)\n",
    "print(f\"For a two-tailed test with alpha = {alpha_level}:\")\n",
    "print(f\"Lower critical value: {critical_values_two_tailed[0]:.3f}\")\n",
    "print(f\"Upper critical value: {critical_values_two_tailed[1]:.3f}\")\n",
    "\n",
    "# One-tailed test (right-tailed)\n",
    "critical_value_one_tailed_right = find_critical_value_normal(alpha_level, tails=1)\n",
    "print(f\"\\nFor a right-tailed test with alpha = {alpha_level}:\")\n",
    "print(f\"Critical value: {critical_value_one_tailed_right:.3f}\")\n",
    "\n",
    "# One-tailed test (left-tailed)\n",
    "critical_value_one_tailed_left = st.norm.ppf(alpha_level)\n",
    "print(f\"\\nFor a left-tailed test with alpha = {alpha_level}:\")\n",
    "print(f\"Critical value: {critical_value_one_tailed_left:.3f}\")"
   ]
  }
 ],
 "metadata": {
  "kernelspec": {
   "display_name": "Python 3 (ipykernel)",
   "language": "python",
   "name": "python3"
  },
  "language_info": {
   "codemirror_mode": {
    "name": "ipython",
    "version": 3
   },
   "file_extension": ".py",
   "mimetype": "text/x-python",
   "name": "python",
   "nbconvert_exporter": "python",
   "pygments_lexer": "ipython3",
   "version": "3.12.4"
  }
 },
 "nbformat": 4,
 "nbformat_minor": 5
}
