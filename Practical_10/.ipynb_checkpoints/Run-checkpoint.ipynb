{
 "cells": [
  {
   "cell_type": "code",
   "execution_count": 1,
   "id": "abb403a1-59b8-4542-b835-0b01555eb8d7",
   "metadata": {},
   "outputs": [
    {
     "name": "stdout",
     "output_type": "stream",
     "text": [
      "Critical values examples:\n",
      "One-tailed test (α=0.05): 1.6449\n",
      "Two-tailed test (α=0.05): (-1.959963984540054, 1.959963984540054)\n",
      "One-tailed test (α=0.01): 2.3263\n",
      "Two-tailed test (α=0.01): (-2.5758293035489004, 2.5758293035489004)\n"
     ]
    }
   ],
   "source": [
    "import scipy.stats as stats\n",
    "\n",
    "def find_critical_value(alpha, tail='two'):\n",
    "    \"\"\"\n",
    "    Calculate the critical value(s) for a standard normal distribution.\n",
    "    \n",
    "    Parameters:\n",
    "    alpha (float): Significance level (e.g., 0.05 for 5%)\n",
    "    tail (str): 'one' for one-tailed test, 'two' for two-tailed test\n",
    "    \n",
    "    Returns:\n",
    "    float or tuple: Critical value(s)\n",
    "    \"\"\"\n",
    "    if tail == 'one':\n",
    "        critical_value = stats.norm.ppf(1 - alpha)\n",
    "        return critical_value\n",
    "    elif tail == 'two':\n",
    "        critical_value = stats.norm.ppf(1 - alpha/2)\n",
    "        return (-critical_value, critical_value)\n",
    "    else:\n",
    "        raise ValueError(\"Tail must be either 'one' or 'two'\")\n",
    "\n",
    "# Example usage\n",
    "print(\"Critical values examples:\")\n",
    "print(f\"One-tailed test (α=0.05): {find_critical_value(0.05, 'one'):.4f}\")\n",
    "print(f\"Two-tailed test (α=0.05): {find_critical_value(0.05, 'two')}\")\n",
    "print(f\"One-tailed test (α=0.01): {find_critical_value(0.01, 'one'):.4f}\")\n",
    "print(f\"Two-tailed test (α=0.01): {find_critical_value(0.01, 'two')}\")"
   ]
  }
 ],
 "metadata": {
  "kernelspec": {
   "display_name": "Python 3 (ipykernel)",
   "language": "python",
   "name": "python3"
  },
  "language_info": {
   "codemirror_mode": {
    "name": "ipython",
    "version": 3
   },
   "file_extension": ".py",
   "mimetype": "text/x-python",
   "name": "python",
   "nbconvert_exporter": "python",
   "pygments_lexer": "ipython3",
   "version": "3.12.4"
  }
 },
 "nbformat": 4,
 "nbformat_minor": 5
}
