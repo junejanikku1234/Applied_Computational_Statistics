{
 "cells": [
  {
   "cell_type": "code",
   "execution_count": 1,
   "id": "cd0e0fbe-13ce-4edd-adb4-da0c9afad051",
   "metadata": {},
   "outputs": [
    {
     "name": "stdout",
     "output_type": "stream",
     "text": [
      "Outcomes: [1 2 3 4]\n",
      "Probabilities: [0.1 0.2 0.3 0.4]\n",
      "Expectation (Mean): 3.0000\n",
      "Variance: 1.0000\n",
      "Standard Deviation: 1.0000\n",
      "\n",
      "Using scipy.stats:\n",
      "Expectation (Mean): 3.0000\n",
      "Variance: 1.0000\n",
      "Standard Deviation: 1.0000\n"
     ]
    }
   ],
   "source": [
    "import numpy as np\n",
    "import scipy.stats as stats\n",
    "\n",
    "# Outcomes and their probabilities\n",
    "x = np.array([1, 2, 3, 4])\n",
    "p = np.array([0.1, 0.2, 0.3, 0.4])\n",
    "\n",
    "# Calculate Expectation (Mean)\n",
    "mean = np.sum(x * p)\n",
    "\n",
    "# Calculate Variance\n",
    "variance = np.sum((x - mean)**2 * p)\n",
    "\n",
    "# Calculate Standard Deviation\n",
    "std_dev = np.sqrt(variance)\n",
    "\n",
    "# Display Results\n",
    "print(f\"Outcomes: {x}\")\n",
    "print(f\"Probabilities: {p}\")\n",
    "print(f\"Expectation (Mean): {mean:.4f}\")\n",
    "print(f\"Variance: {variance:.4f}\")\n",
    "print(f\"Standard Deviation: {std_dev:.4f}\")\n",
    "\n",
    "# Using scipy.stats for verification\n",
    "rv = stats.rv_discrete(name='X', values=(x, p))\n",
    "print(\"\\nUsing scipy.stats:\")\n",
    "print(f\"Expectation (Mean): {rv.mean():.4f}\")\n",
    "print(f\"Variance: {rv.var():.4f}\")\n",
    "print(f\"Standard Deviation: {rv.std():.4f}\")\n"
   ]
  }
 ],
 "metadata": {
  "kernelspec": {
   "display_name": "Python 3 (ipykernel)",
   "language": "python",
   "name": "python3"
  },
  "language_info": {
   "codemirror_mode": {
    "name": "ipython",
    "version": 3
   },
   "file_extension": ".py",
   "mimetype": "text/x-python",
   "name": "python",
   "nbconvert_exporter": "python",
   "pygments_lexer": "ipython3",
   "version": "3.12.4"
  }
 },
 "nbformat": 4,
 "nbformat_minor": 5
}
