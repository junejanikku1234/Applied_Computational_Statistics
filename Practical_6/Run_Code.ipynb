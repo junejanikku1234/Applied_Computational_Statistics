{
 "cells": [
  {
   "cell_type": "code",
   "execution_count": 1,
   "id": "f904e1ce-dc32-44a5-8d60-77e85ad0d219",
   "metadata": {},
   "outputs": [
    {
     "name": "stdout",
     "output_type": "stream",
     "text": [
      "Law of Total Probability: P(A) = 0.44999999999999996\n",
      "Addition Rule: P(A ∪ B) = 0.78\n",
      "Multiplication Rule: P(A ∩ B) = 0.12\n",
      "Complementary Rule: P(A^c) = 0.6\n",
      "Bayes' Theorem: P(A|B) = 0.24\n"
     ]
    }
   ],
   "source": [
    "# Python Program to Implement Laws of Probability\n",
    "\n",
    "def law_of_total_probability(P_A_given_B, P_B, P_A_given_Bc, P_Bc):\n",
    "    \"\"\"\n",
    "    Law of Total Probability:\n",
    "    P(A) = P(A|B) * P(B) + P(A|B^c) * P(B^c)\n",
    "    \"\"\"\n",
    "    P_A = P_A_given_B * P_B + P_A_given_Bc * P_Bc\n",
    "    return P_A\n",
    "\n",
    "def addition_rule(P_A, P_B, P_A_and_B):\n",
    "    \"\"\"\n",
    "    Addition Rule:\n",
    "    P(A ∪ B) = P(A) + P(B) - P(A ∩ B)\n",
    "    \"\"\"\n",
    "    P_A_or_B = P_A + P_B - P_A_and_B\n",
    "    return P_A_or_B\n",
    "\n",
    "def multiplication_rule(P_A, P_B_given_A):\n",
    "    \"\"\"\n",
    "    Multiplication Rule:\n",
    "    P(A ∩ B) = P(A) * P(B|A)\n",
    "    \"\"\"\n",
    "    P_A_and_B = P_A * P_B_given_A\n",
    "    return P_A_and_B\n",
    "\n",
    "def complementary_rule(P_A):\n",
    "    \"\"\"\n",
    "    Complementary Rule:\n",
    "    P(A^c) = 1 - P(A)\n",
    "    \"\"\"\n",
    "    P_Ac = 1 - P_A\n",
    "    return P_Ac\n",
    "\n",
    "def bayes_theorem(P_B_given_A, P_A, P_B):\n",
    "    \"\"\"\n",
    "    Bayes' Theorem:\n",
    "    P(A|B) = (P(B|A) * P(A)) / P(B)\n",
    "    \"\"\"\n",
    "    P_A_given_B = (P_B_given_A * P_A) / P_B\n",
    "    return P_A_given_B\n",
    "\n",
    "# Input probabilities\n",
    "P_A = 0.4\n",
    "P_B = 0.5\n",
    "P_B_given_A = 0.3\n",
    "P_A_given_B = 0.3\n",
    "P_A_given_Bc = 0.5\n",
    "P_Bc = 0.6\n",
    "\n",
    "# Calculations\n",
    "P_A_total = law_of_total_probability(P_A_given_B, P_B, P_A_given_Bc, P_Bc)\n",
    "P_A_and_B = multiplication_rule(P_A, P_B_given_A)\n",
    "P_A_or_B = addition_rule(P_A, P_B, P_A_and_B)\n",
    "P_Ac = complementary_rule(P_A)\n",
    "P_A_given_B_bayes = bayes_theorem(P_B_given_A, P_A, P_B)\n",
    "\n",
    "# Output results\n",
    "print(\"Law of Total Probability: P(A) =\", P_A_total)\n",
    "print(\"Addition Rule: P(A ∪ B) =\", P_A_or_B)\n",
    "print(\"Multiplication Rule: P(A ∩ B) =\", P_A_and_B)\n",
    "print(\"Complementary Rule: P(A^c) =\", P_Ac)\n",
    "print(\"Bayes' Theorem: P(A|B) =\", P_A_given_B_bayes)"
   ]
  }
 ],
 "metadata": {
  "kernelspec": {
   "display_name": "Python 3 (ipykernel)",
   "language": "python",
   "name": "python3"
  },
  "language_info": {
   "codemirror_mode": {
    "name": "ipython",
    "version": 3
   },
   "file_extension": ".py",
   "mimetype": "text/x-python",
   "name": "python",
   "nbconvert_exporter": "python",
   "pygments_lexer": "ipython3",
   "version": "3.12.4"
  }
 },
 "nbformat": 4,
 "nbformat_minor": 5
}
