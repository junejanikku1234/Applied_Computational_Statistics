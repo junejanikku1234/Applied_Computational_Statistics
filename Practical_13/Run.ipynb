{
 "cells": [
  {
   "cell_type": "code",
   "execution_count": 3,
   "id": "e170916d-fcf0-4295-b8b5-10088526ed49",
   "metadata": {},
   "outputs": [
    {
     "name": "stdout",
     "output_type": "stream",
     "text": [
      "One-Sample t-test Results:\n",
      "t-statistic: 1.875\n",
      "p-value: 0.073\n",
      "Critical values: -2.064 and 2.064\n",
      "Fail to reject the null hypothesis. There is not enough evidence to suggest that the population mean is different from 75.\n"
     ]
    }
   ],
   "source": [
    "import numpy as np\n",
    "import scipy.stats as st\n",
    "\n",
    "def one_sample_t_test(sample_mean, sample_std, sample_size, hypothesized_mean, alpha=0.05, alternative='two-sided'):\n",
    "  \"\"\"\n",
    "  Performs a one-sample t-test for unknown population variance.\n",
    "\n",
    "  Args:\n",
    "    sample_mean (float): The mean of the sample.\n",
    "    sample_std (float): The standard deviation of the sample.\n",
    "    sample_size (int): The number of observations in the sample.\n",
    "    hypothesized_mean (float): The hypothesized population mean (H0).\n",
    "    alpha (float): The significance level (default is 0.05).\n",
    "    alternative (str): The alternative hypothesis ('two-sided', 'less', 'greater').\n",
    "                       Default is 'two-sided'.\n",
    "\n",
    "  Returns:\n",
    "    tuple: A tuple containing the t-statistic, p-value, and critical value(s).\n",
    "  \"\"\"\n",
    "  degrees_freedom = sample_size - 1\n",
    "  t_statistic = (sample_mean - hypothesized_mean) / (sample_std / np.sqrt(sample_size))\n",
    "  p_value = st.t.sf(np.abs(t_statistic), degrees_freedom)  # Survival function (1 - CDF) for right tail\n",
    "\n",
    "  if alternative == 'two-sided':\n",
    "    p_value *= 2\n",
    "    critical_value = st.t.ppf([alpha / 2, 1 - alpha / 2], degrees_freedom)\n",
    "  elif alternative == 'less':\n",
    "    p_value = st.t.cdf(t_statistic, degrees_freedom)\n",
    "    critical_value = st.t.ppf(alpha, degrees_freedom)\n",
    "  elif alternative == 'greater':\n",
    "    p_value = st.t.sf(t_statistic, degrees_freedom)\n",
    "    critical_value = st.t.ppf(1 - alpha, degrees_freedom)\n",
    "  else:\n",
    "    raise ValueError(\"Invalid alternative hypothesis. Choose 'two-sided', 'less', or 'greater'.\")\n",
    "\n",
    "  return t_statistic, p_value, critical_value\n",
    "\n",
    "# Example Usage:\n",
    "# Suppose we have a sample of 25 students with an average test score of 78\n",
    "# and a sample standard deviation of 8. We want to test if the population\n",
    "# mean is significantly different from 75 (alpha = 0.05).\n",
    "\n",
    "sample_mean = 78\n",
    "sample_std = 8\n",
    "sample_size = 25\n",
    "hypothesized_mean = 75\n",
    "alpha = 0.05\n",
    "alternative_hypothesis = 'two-sided' # You can change this to 'less' or 'greater'\n",
    "\n",
    "t_stat, p_val, crit_val = one_sample_t_test(sample_mean, sample_std, sample_size, hypothesized_mean, alpha, alternative_hypothesis)\n",
    "\n",
    "print(\"One-Sample t-test Results:\")\n",
    "print(f\"t-statistic: {t_stat:.3f}\")\n",
    "print(f\"p-value: {p_val:.3f}\")\n",
    "\n",
    "if alternative_hypothesis == 'two-sided':\n",
    "  print(f\"Critical values: {crit_val[0]:.3f} and {crit_val[1]:.3f}\")\n",
    "  if p_val < alpha:\n",
    "    print(f\"Reject the null hypothesis. There is significant evidence that the population mean is different from {hypothesized_mean}.\")\n",
    "  else:\n",
    "    print(f\"Fail to reject the null hypothesis. There is not enough evidence to suggest that the population mean is different from {hypothesized_mean}.\")\n",
    "elif alternative_hypothesis == 'less':\n",
    "  print(f\"Critical value: {crit_val:.3f}\")\n",
    "  if p_val < alpha:\n",
    "    print(f\"Reject the null hypothesis. There is significant evidence that the population mean is less than {hypothesized_mean}.\")\n",
    "  else:\n",
    "    print(f\"Fail to reject the null hypothesis. There is not enough evidence to suggest that the population mean is less than {hypothesized_mean}.\")\n",
    "elif alternative_hypothesis == 'greater':\n",
    "  print(f\"Critical value: {crit_val:.3f}\")\n",
    "  if p_val < alpha:\n",
    "    print(f\"Reject the null hypothesis. There is significant evidence that the population mean is greater than {hypothesized_mean}.\")\n",
    "  else:\n",
    "    print(f\"Fail to reject the null hypothesis. There is not enough evidence to suggest that the population mean is greater than {hypothesized_mean}.\")"
   ]
  }
 ],
 "metadata": {
  "kernelspec": {
   "display_name": "Python 3 (ipykernel)",
   "language": "python",
   "name": "python3"
  },
  "language_info": {
   "codemirror_mode": {
    "name": "ipython",
    "version": 3
   },
   "file_extension": ".py",
   "mimetype": "text/x-python",
   "name": "python",
   "nbconvert_exporter": "python",
   "pygments_lexer": "ipython3",
   "version": "3.12.4"
  }
 },
 "nbformat": 4,
 "nbformat_minor": 5
}
